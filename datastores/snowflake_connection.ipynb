{
 "cells": [
  {
   "cell_type": "markdown",
   "metadata": {},
   "source": [
    "## Creating an external data connection to Snowflake\n",
    "\n",
    "Reference: https://learn.microsoft.com/en-us/azure/machine-learning/how-to-connection?view=azureml-api-2&tabs=python#create-a-snowflake-db-connection"
   ]
  },
  {
   "cell_type": "code",
   "execution_count": null,
   "metadata": {},
   "outputs": [],
   "source": [
    "from azure.ai.ml import MLClient, load_workspace_connection\n",
    "\n",
    "ml_client = MLClient.from_config()\n",
    "\n",
    "wps_connection = load_workspace_connection(source=\"./my_snowflakedb_connection.yaml\")\n",
    "wps_connection.credentials.username=\"XXXXX\"\n",
    "wps_connection.credentials.password=\"XXXXXXXX\"\n",
    "ml_client.connections.create_or_update(workspace_connection=wps_connection)"
   ]
  },
  {
   "cell_type": "code",
   "execution_count": null,
   "metadata": {},
   "outputs": [],
   "source": [
    "from azure.ai.ml import MLClient\n",
    "from azure.ai.ml.entities import WorkspaceConnection\n",
    "from azure.ai.ml.entities import UsernamePasswordConfiguration\n",
    "\n",
    "target= \"jdbc:snowflake://<myaccount>.snowflakecomputing.com/?db=<mydb>&warehouse=<mywarehouse>&role=<myrole>\"\n",
    "# add the Snowflake account, database, warehouse name and role name here. If no role name provided it will default to PUBLIC\n",
    "name= <my_snowflake_connection> # name of the connection\n",
    "wps_connection = WorkspaceConnection(name= name,\n",
    "type=\"snowflake\",\n",
    "target= target,\n",
    "credentials= UsernamePasswordConfiguration(username=\"XXXXX\", password=\"XXXXXX\")\n",
    ")\n",
    "\n",
    "ml_client.connections.create_or_update(workspace_connection=wps_connection)"
   ]
  }
 ],
 "metadata": {
  "language_info": {
   "name": "python"
  }
 },
 "nbformat": 4,
 "nbformat_minor": 2
}
