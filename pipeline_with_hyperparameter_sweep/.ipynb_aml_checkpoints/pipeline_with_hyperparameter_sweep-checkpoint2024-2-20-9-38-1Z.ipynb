{
  "cells": [
    {
      "cell_type": "markdown",
      "source": [
        "# Build pipeline with sweep node\n",
        "\n",
        "**Requirements** - In order to benefit from this tutorial, you will need:\n",
        "- A basic understanding of Machine Learning\n",
        "- An Azure account with an active subscription - [Create an account for free](https://azure.microsoft.com/free/?WT.mc_id=A261C142F)\n",
        "- An Azure ML workspace with computer cluster - [Configure workspace](../../configuration.ipynb)\n",
        "- A python environment\n",
        "- Installed Azure Machine Learning Python SDK v2 - [install instructions](../../../README.md) - check the getting started section\n",
        "\n",
        "**Learning Objectives** - By the end of this tutorial, you should be able to:\n",
        "- Connect to your AML workspace from the Python SDK\n",
        "- Create sweep node with `sweep()`\n",
        "- Create `Pipeline` with sweep node\n",
        "\n",
        "**Motivations** - This notebook explains how to create a sweep node by using `sweep()` and use it in a pipeline. A sweep node can be used to enable hyperparameter tuning on a specified compute (either local or on the cloud) for a specific command component. You can define a `search_space` and an `objective` to search for the target output.  "
      ],
      "metadata": {}
    },
    {
      "cell_type": "markdown",
      "source": [
        "# 1. Connect to Azure Machine Learning Workspace\n",
        "\n",
        "The [workspace](https://docs.microsoft.com/en-us/azure/machine-learning/concept-workspace) is the top-level resource for Azure Machine Learning, providing a centralized place to work with all the artifacts you create when you use Azure Machine Learning. In this section we will connect to the workspace in which the job will be run.\n",
        "\n",
        "## 1.1 Import the required libraries"
      ],
      "metadata": {}
    },
    {
      "cell_type": "code",
      "source": [
        "# import required libraries\n",
        "from azure.identity import DefaultAzureCredential, InteractiveBrowserCredential\n",
        "\n",
        "from azure.ai.ml import MLClient, Input\n",
        "from azure.ai.ml.dsl import pipeline\n",
        "from azure.ai.ml import load_component\n",
        "from azure.ai.ml.sweep import (\n",
        "    Choice,\n",
        "    Uniform,\n",
        ")"
      ],
      "outputs": [],
      "execution_count": 6,
      "metadata": {
        "gather": {
          "logged": 1710926196990
        }
      }
    },
    {
      "cell_type": "markdown",
      "source": [
        "## 1.2 Configure credential\n",
        "\n",
        "We are using `DefaultAzureCredential` to get access to workspace. \n",
        "`DefaultAzureCredential` should be capable of handling most Azure SDK authentication scenarios. \n",
        "\n",
        "Reference for more available credentials if it does not work for you: [configure credential example](../../configuration.ipynb), [azure-identity reference doc](https://docs.microsoft.com/en-us/python/api/azure-identity/azure.identity?view=azure-python)."
      ],
      "metadata": {}
    },
    {
      "cell_type": "code",
      "source": [
        "try:\n",
        "    credential = DefaultAzureCredential()\n",
        "    # Check if given credential can get token successfully.\n",
        "    credential.get_token(\"https://management.azure.com/.default\")\n",
        "except Exception as ex:\n",
        "    # Fall back to InteractiveBrowserCredential in case DefaultAzureCredential not work\n",
        "    credential = InteractiveBrowserCredential()"
      ],
      "outputs": [],
      "execution_count": 7,
      "metadata": {
        "gather": {
          "logged": 1710926197102
        }
      }
    },
    {
      "cell_type": "markdown",
      "source": [
        "## 1.3 Get a handle to the workspace\n",
        "\n",
        "We use config file to connect to a workspace. The Azure ML workspace should be configured with computer cluster. [Check this notebook for configure a workspace](../../configuration.ipynb)."
      ],
      "metadata": {}
    },
    {
      "cell_type": "code",
      "source": [
        "# Get a handle to workspace\n",
        "ml_client = MLClient.from_config(credential=credential)\n",
        "\n",
        "# Retrieve an already attached Azure Machine Learning Compute.\n",
        "cluster_name = \"ej-cluster2\"\n",
        "print(ml_client.compute.get(cluster_name))"
      ],
      "outputs": [
        {
          "output_type": "stream",
          "name": "stderr",
          "text": "Found the config file in: /config.json\n"
        },
        {
          "output_type": "stream",
          "name": "stdout",
          "text": "enable_node_public_ip: true\nid: /subscriptions/876b91eb-54d6-4433-af3b-5c9914d5ccea/resourceGroups/ej_vision_playground/providers/Microsoft.MachineLearningServices/workspaces/ej-workshop-workspace/computes/ej-cluster2\nidle_time_before_scale_down: 120\nlocation: westeurope\nmax_instances: 6\nmin_instances: 1\nname: ej-cluster2\nprovisioning_state: Succeeded\nsize: Standard_NC6s_v3\nssh_public_access_enabled: false\ntier: low_priority\ntype: amlcompute\n\n"
        }
      ],
      "execution_count": 8,
      "metadata": {
        "gather": {
          "logged": 1710926197517
        }
      }
    },
    {
      "cell_type": "markdown",
      "source": [
        "# 2. Pipeline job with hyperparameter sweep\n",
        "\n",
        "## 2.1 Build pipeline\n",
        "In pipeline definition, we define `search_space` for hyperparameter sweep in inputs of `train_model` and call `train_model.sweep()` to create a sweep node based on `train_model` with specific run settings. Run settings includes:\n",
        "- objective_primary_metric \n",
        "- objective_goal\n",
        "- sampling_algorithm\n",
        "- limits\n",
        "- early_termination_policy\n",
        "- compute\n",
        "\n",
        "Please check section **3. Run a sweep on this command** in [Run hyperparameter sweep on a Command or CommandComponent](../../single-step/lightgbm/iris/lightgbm-iris-sweep.ipynb) for detailed explanation for the above concepts and settings.\n",
        "\n",
        "Noted that the **primary metric** of sweep objective must be **LOGGED** in the definition of `train_model`."
      ],
      "metadata": {}
    },
    {
      "cell_type": "code",
      "source": [
        "train_component_func = load_component(source=\"./train.yml\")\n",
        "score_component_func = load_component(source=\"./predict.yml\")\n",
        "\n",
        "# define a pipeline\n",
        "@pipeline()\n",
        "def pipeline_with_hyperparameter_sweep():\n",
        "    \"\"\"Tune hyperparameters using sample components.\"\"\"\n",
        "    train_model = train_component_func(\n",
        "        data=Input(\n",
        "            type=\"uri_file\",\n",
        "            path=\"wasbs://datasets@azuremlexamples.blob.core.windows.net/iris.csv\",\n",
        "        ),\n",
        "        c_value=Uniform(min_value=0.5, max_value=0.9),\n",
        "        kernel=Choice([\"rbf\", \"linear\", \"poly\"]),\n",
        "        coef0=Uniform(min_value=0.1, max_value=1),\n",
        "        degree=3,\n",
        "        gamma=\"scale\",\n",
        "        shrinking=False,\n",
        "        probability=False,\n",
        "        tol=0.001,\n",
        "        cache_size=1024,\n",
        "        verbose=False,\n",
        "        max_iter=-1,\n",
        "        decision_function_shape=\"ovr\",\n",
        "        break_ties=False,\n",
        "        random_state=42,\n",
        "    )\n",
        "    sweep_step = train_model.sweep(\n",
        "        primary_metric=\"training_f1_score\",\n",
        "        goal=\"minimize\",\n",
        "        sampling_algorithm=\"random\",\n",
        "        compute=\"ej-cluster2\",\n",
        "    )\n",
        "    sweep_step.set_limits(max_total_trials=20, max_concurrent_trials=10, timeout=7200)\n",
        "\n",
        "    score_data = score_component_func(\n",
        "        model=sweep_step.outputs.model_output, test_data=sweep_step.outputs.test_data\n",
        "    )\n",
        "\n",
        "\n",
        "pipeline_job = pipeline_with_hyperparameter_sweep()\n",
        "\n",
        "# set pipeline level compute\n",
        "pipeline_job.settings.default_compute = \"ej-cluster2\""
      ],
      "outputs": [],
      "execution_count": 9,
      "metadata": {
        "name": "enable-sweep",
        "gather": {
          "logged": 1710926197752
        }
      }
    },
    {
      "cell_type": "markdown",
      "source": [
        "## 2.2 Submit pipeline job"
      ],
      "metadata": {}
    },
    {
      "cell_type": "code",
      "source": [
        "# submit job to workspace\n",
        "pipeline_job = ml_client.jobs.create_or_update(\n",
        "    pipeline_job, experiment_name=\"hyper-param-sweep\"\n",
        ")\n",
        "pipeline_job"
      ],
      "outputs": [
        {
          "output_type": "stream",
          "name": "stderr",
          "text": "Uploading train-src (0.0 MBs): 100%|██████████| 3610/3610 [00:00<00:00, 59380.51it/s]\n\n\nUploading predict-src (0.0 MBs): 100%|██████████| 969/969 [00:00<00:00, 14992.75it/s]\n\n\n"
        },
        {
          "output_type": "execute_result",
          "execution_count": 10,
          "data": {
            "text/plain": "PipelineJob({'inputs': {}, 'outputs': {}, 'jobs': {}, 'component': PipelineComponent({'intellectual_property': None, 'auto_increment_version': False, 'source': 'REMOTE.WORKSPACE.JOB', 'is_anonymous': True, 'auto_delete_setting': None, 'name': 'azureml_anonymous', 'description': 'Tune hyperparameters using sample components.', 'tags': {}, 'properties': {}, 'print_as_yaml': True, 'id': None, 'Resource__source_path': None, 'base_path': '/mnt/batch/tasks/shared/LS_root/mounts/clusters/jonesethan3/code/Users/jonesethan/misc/1c_pipeline_with_hyperparameter_sweep', 'creation_context': None, 'serialize': <msrest.serialization.Serializer object at 0x7f571078ba00>, 'version': '1', 'latest_version': None, 'schema': None, 'type': 'pipeline', 'display_name': 'pipeline_with_hyperparameter_sweep', 'is_deterministic': None, 'inputs': {}, 'outputs': {}, 'yaml_str': None, 'other_parameter': {}, 'jobs': {'sweep_step': Sweep({'job_inputs': {'data': {'type': 'uri_file', 'path': 'wasbs://datasets@azuremlexamples.blob.core.windows.net/iris.csv'}, 'degree': '3', 'gamma': 'scale', 'shrinking': 'False', 'probability': 'False', 'tol': '0.001', 'cache_size': '1024', 'verbose': 'False', 'max_iter': '-1', 'decision_function_shape': 'ovr', 'break_ties': 'False', 'random_state': '42'}, 'job_outputs': {}, 'init': False, 'name': 'sweep_step', 'type': 'sweep', 'status': None, 'log_files': None, 'description': None, 'tags': {}, 'properties': {}, 'print_as_yaml': True, 'id': None, 'Resource__source_path': None, 'base_path': '/mnt/batch/tasks/shared/LS_root/mounts/clusters/jonesethan3/code/Users/jonesethan/misc/1c_pipeline_with_hyperparameter_sweep', 'creation_context': None, 'serialize': <msrest.serialization.Serializer object at 0x7f571078b3a0>, 'allowed_keys': {}, 'key_restriction': False, 'logger': <Logger attr_dict (WARNING)>, 'display_name': None, 'experiment_name': None, 'compute': 'ej-cluster2', 'services': None, 'comment': None, 'inputs': {'data': <azure.ai.ml.entities._job.pipeline._io.base.NodeInput object at 0x7f571078b040>, 'degree': <azure.ai.ml.entities._job.pipeline._io.base.NodeInput object at 0x7f571078b6a0>, 'gamma': <azure.ai.ml.entities._job.pipeline._io.base.NodeInput object at 0x7f571078b730>, 'shrinking': <azure.ai.ml.entities._job.pipeline._io.base.NodeInput object at 0x7f571078b850>, 'probability': <azure.ai.ml.entities._job.pipeline._io.base.NodeInput object at 0x7f571078a6b0>, 'tol': <azure.ai.ml.entities._job.pipeline._io.base.NodeInput object at 0x7f571078b700>, 'cache_size': <azure.ai.ml.entities._job.pipeline._io.base.NodeInput object at 0x7f571078b790>, 'verbose': <azure.ai.ml.entities._job.pipeline._io.base.NodeInput object at 0x7f5710789300>, 'max_iter': <azure.ai.ml.entities._job.pipeline._io.base.NodeInput object at 0x7f571078a680>, 'decision_function_shape': <azure.ai.ml.entities._job.pipeline._io.base.NodeInput object at 0x7f571078b910>, 'break_ties': <azure.ai.ml.entities._job.pipeline._io.base.NodeInput object at 0x7f571078b8e0>, 'random_state': <azure.ai.ml.entities._job.pipeline._io.base.NodeInput object at 0x7f571078b8b0>}, 'outputs': {}, 'component': 'azureml_anonymous:79ae7ea9-2650-44fe-b5b6-c7a1d20682a8', 'referenced_control_flow_node_instance_id': None, 'kwargs': {}, 'instance_id': '618117d2-8d67-44da-8926-5e14f9391a95', 'source': 'REMOTE.WORKSPACE.COMPONENT', 'validate_required_input_not_provided': True, 'sampling_algorithm': 'random', 'early_termination': None, 'limits': <azure.ai.ml.entities._job.job_limits.SweepJobLimits object at 0x7f571078af80>, 'search_space': {'c_value': <azure.ai.ml.entities._job.sweep.search_space.Uniform object at 0x7f571078a950>, 'kernel': <azure.ai.ml.entities._job.sweep.search_space.Choice object at 0x7f5710789360>, 'coef0': <azure.ai.ml.entities._job.sweep.search_space.Uniform object at 0x7f571078b760>}, 'queue_settings': None, 'objective': <azure.ai.ml.entities._job.sweep.objective.Objective object at 0x7f571078b7f0>, 'identity': None}), 'score_data': Command({'parameters': {}, 'init': False, 'name': 'score_data', 'type': 'command', 'status': None, 'log_files': None, 'description': None, 'tags': {}, 'properties': {}, 'print_as_yaml': True, 'id': None, 'Resource__source_path': None, 'base_path': '/mnt/batch/tasks/shared/LS_root/mounts/clusters/jonesethan3/code/Users/jonesethan/misc/1c_pipeline_with_hyperparameter_sweep', 'creation_context': None, 'serialize': <msrest.serialization.Serializer object at 0x7f571078b940>, 'allowed_keys': {}, 'key_restriction': False, 'logger': <Logger attr_dict (WARNING)>, 'display_name': None, 'experiment_name': None, 'compute': None, 'services': None, 'comment': None, 'job_inputs': {'model': '${{parent.jobs.sweep_step.outputs.model_output}}', 'test_data': '${{parent.jobs.sweep_step.outputs.test_data}}'}, 'job_outputs': {}, 'inputs': {'model': <azure.ai.ml.entities._job.pipeline._io.base.NodeInput object at 0x7f571078b9a0>, 'test_data': <azure.ai.ml.entities._job.pipeline._io.base.NodeInput object at 0x7f571078b9d0>}, 'outputs': {}, 'component': 'azureml_anonymous:cd19e511-cae7-4a19-88cd-570a3aa1007a', 'referenced_control_flow_node_instance_id': None, 'kwargs': {'services': None}, 'instance_id': 'df2c2520-c01f-43c1-93fe-8144dd246c17', 'source': 'REMOTE.WORKSPACE.COMPONENT', 'validate_required_input_not_provided': True, 'limits': None, 'identity': None, 'distribution': None, 'environment_variables': {}, 'environment': None, 'resources': None, 'queue_settings': None, 'swept': False})}, 'job_types': {'sweep': 1, 'command': 1}, 'job_sources': {'REMOTE.WORKSPACE.COMPONENT': 2}, 'source_job_id': None}), 'type': 'pipeline', 'status': 'Preparing', 'log_files': None, 'name': 'serene_grape_z3tsbn13lm', 'description': 'Tune hyperparameters using sample components.', 'tags': {}, 'properties': {'azureml.DevPlatv2': 'true', 'azureml.DatasetAccessMode': 'Asset', 'azureml.runsource': 'azureml.PipelineRun', 'runSource': 'MFE', 'runType': 'HTTP', 'azureml.parameters': '{}', 'azureml.continue_on_step_failure': 'True', 'azureml.continue_on_failed_optional_input': 'True', 'azureml.enforceRerun': 'False', 'azureml.defaultComputeName': 'ej-cluster2', 'azureml.defaultDataStoreName': 'workspaceblobstore', 'azureml.pipelineComponent': 'pipelinerun'}, 'print_as_yaml': True, 'id': '/subscriptions/876b91eb-54d6-4433-af3b-5c9914d5ccea/resourceGroups/ej_vision_playground/providers/Microsoft.MachineLearningServices/workspaces/ej-workshop-workspace/jobs/serene_grape_z3tsbn13lm', 'Resource__source_path': None, 'base_path': '/mnt/batch/tasks/shared/LS_root/mounts/clusters/jonesethan3/code/Users/jonesethan/misc/1c_pipeline_with_hyperparameter_sweep', 'creation_context': <azure.ai.ml.entities._system_data.SystemData object at 0x7f571078ba90>, 'serialize': <msrest.serialization.Serializer object at 0x7f571078bb50>, 'display_name': 'pipeline_with_hyperparameter_sweep', 'experiment_name': 'hyper-param-sweep', 'compute': None, 'services': {'Tracking': {'endpoint': 'azureml://westeurope.api.azureml.ms/mlflow/v1.0/subscriptions/876b91eb-54d6-4433-af3b-5c9914d5ccea/resourceGroups/ej_vision_playground/providers/Microsoft.MachineLearningServices/workspaces/ej-workshop-workspace?', 'type': 'Tracking'}, 'Studio': {'endpoint': 'https://ml.azure.com/runs/serene_grape_z3tsbn13lm?wsid=/subscriptions/876b91eb-54d6-4433-af3b-5c9914d5ccea/resourcegroups/ej_vision_playground/workspaces/ej-workshop-workspace&tid=16b3c013-d300-468d-ac64-7eda0820b6d3', 'type': 'Studio'}}, 'settings': {}, 'identity': None, 'default_code': None, 'default_environment': None})",
            "text/html": "<table style=\"width:100%\"><tr><th>Experiment</th><th>Name</th><th>Type</th><th>Status</th><th>Details Page</th></tr><tr><td>hyper-param-sweep</td><td>serene_grape_z3tsbn13lm</td><td>pipeline</td><td>Preparing</td><td><a href=\"https://ml.azure.com/runs/serene_grape_z3tsbn13lm?wsid=/subscriptions/876b91eb-54d6-4433-af3b-5c9914d5ccea/resourcegroups/ej_vision_playground/workspaces/ej-workshop-workspace&amp;tid=16b3c013-d300-468d-ac64-7eda0820b6d3\" target=\"_blank\" rel=\"noopener\">Link to Azure Machine Learning studio</a></td></tr></table>"
          },
          "metadata": {}
        }
      ],
      "execution_count": 10,
      "metadata": {
        "gather": {
          "logged": 1710926210817
        }
      }
    },
    {
      "cell_type": "code",
      "source": [
        "# Wait until the job completes\n",
        "ml_client.jobs.stream(pipeline_job.name)"
      ],
      "outputs": [
        {
          "output_type": "stream",
          "name": "stdout",
          "text": "RunId: serene_grape_z3tsbn13lm\nWeb View: https://ml.azure.com/runs/serene_grape_z3tsbn13lm?wsid=/subscriptions/876b91eb-54d6-4433-af3b-5c9914d5ccea/resourcegroups/ej_vision_playground/workspaces/ej-workshop-workspace\n\nStreaming logs/azureml/executionlogs.txt\n========================================\n\n[2024-03-20 09:16:51Z] Submitting 1 runs, first five are: 90a1dd90:7810fa46-a23d-4c2c-8711-f5aea2cef29b\n[2024-03-20 09:29:09Z] Completing processing run id 7810fa46-a23d-4c2c-8711-f5aea2cef29b.\n[2024-03-20 09:29:10Z] Submitting 1 runs, first five are: 4cf2b20a:06fd4f0a-0b27-4d4e-ab53-6883e160f3b8\n[2024-03-20 09:32:04Z] Completing processing run id 06fd4f0a-0b27-4d4e-ab53-6883e160f3b8.\n\nExecution Summary\n=================\nRunId: serene_grape_z3tsbn13lm\nWeb View: https://ml.azure.com/runs/serene_grape_z3tsbn13lm?wsid=/subscriptions/876b91eb-54d6-4433-af3b-5c9914d5ccea/resourcegroups/ej_vision_playground/workspaces/ej-workshop-workspace\n\n"
        }
      ],
      "execution_count": 11,
      "metadata": {
        "gather": {
          "logged": 1710927145603
        }
      }
    },
    {
      "cell_type": "markdown",
      "source": [
        "# Next Steps\n",
        "You can see further examples of running a pipeline job [here](../)"
      ],
      "metadata": {}
    }
  ],
  "metadata": {
    "microsoft": {
      "ms_spell_check": {
        "ms_spell_check_language": "en"
      },
      "host": {
        "AzureML": {
          "notebookHasBeenCompleted": true
        }
      }
    },
    "kernel_info": {
      "name": "python310-sdkv2"
    },
    "language_info": {
      "name": "python",
      "version": "3.10.11",
      "mimetype": "text/x-python",
      "codemirror_mode": {
        "name": "ipython",
        "version": 3
      },
      "pygments_lexer": "ipython3",
      "nbconvert_exporter": "python",
      "file_extension": ".py"
    },
    "kernelspec": {
      "name": "python310-sdkv2",
      "language": "python",
      "display_name": "Python 3.10 - SDK v2"
    },
    "interpreter": {
      "hash": "3e9e0e270b75c5e6da2e22113ba4f77b864d68f95da6601809c29e46c73ae6bb"
    },
    "categories": [
      "SDK v2",
      "sdk",
      "python",
      "jobs",
      "pipelines"
    ],
    "description": {
      "description": "Use sweep (hyperdrive) in pipeline to train mnist model using tensorflow"
    },
    "nteract": {
      "version": "nteract-front-end@1.0.0"
    }
  },
  "nbformat": 4,
  "nbformat_minor": 2
}