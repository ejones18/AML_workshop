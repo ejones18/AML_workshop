{
  "cells": [
    {
      "cell_type": "markdown",
      "source": [
        "## Custom environment using private Python packages from GitHub\n",
        "\n",
        "In this tutorial, we will walk through the stages of creating a custom environment that uses a private Python package housed in a private GitHub repository.\n",
        "\n",
        "Pre-requisites:\n",
        "- A read-only PAT token for the private repository of choice,\n",
        "- A key vault where the PAT token will be housed,\n",
        "- A managed identity with the RBAC permission to read the secret\n",
        "- The managed identity will then need to be assigned to the compute instance\n",
        "\n",
        "References:\n",
        "- https://learn.microsoft.com/en-us/azure/machine-learning/how-to-use-private-python-packages?view=azureml-api-1\n",
        "- https://github.com/Azure/MachineLearningNotebooks/blob/master/how-to-use-azureml/manage-azureml-service/authentication-in-azureml/authentication-in-azureml.ipynb"
      ],
      "metadata": {
        "nteract": {
          "transient": {
            "deleting": false
          }
        }
      }
    },
    {
      "cell_type": "markdown",
      "source": [
        "**Learning Objectives** - By the end of this tutorial, you should be able to use Azure Machine Learning (Azure ML) to create a custom environment that includes dependencies held in private repositories on GitHub."
      ],
      "metadata": {
        "nteract": {
          "transient": {
            "deleting": false
          }
        }
      }
    },
    {
      "cell_type": "markdown",
      "source": [
        "## Step 1: Getting the workspace handle and installing the required packages"
      ],
      "metadata": {
        "nteract": {
          "transient": {
            "deleting": false
          }
        }
      }
    },
    {
      "cell_type": "code",
      "source": [
        "!pip install azure-identity \n",
        "!pip install azure-keyvault-secrets #Key Vault Python SDK"
      ],
      "outputs": [],
      "execution_count": null,
      "metadata": {
        "jupyter": {
          "outputs_hidden": false,
          "source_hidden": false
        },
        "nteract": {
          "transient": {
            "deleting": false
          }
        }
      }
    },
    {
      "cell_type": "code",
      "source": [
        "#import required libraries\n",
        "from azure.ai.ml import MLClient\n",
        "from azure.identity import DefaultAzureCredential\n",
        "\n",
        "#Enter details of your Azure Machine Learning workspace\n",
        "subscription_id = '876b91eb-54d6-4433-af3b-5c9914d5ccea'\n",
        "resource_group = 'ej_vision_playground'\n",
        "workspace = 'ej-workshop-workspace'\n",
        "\n",
        "#connect to the workspace\n",
        "ml_client = MLClient(DefaultAzureCredential(), subscription_id, resource_group, workspace)"
      ],
      "outputs": [],
      "execution_count": null,
      "metadata": {
        "gather": {
          "logged": 1709639907942
        },
        "jupyter": {
          "outputs_hidden": false,
          "source_hidden": false
        },
        "nteract": {
          "transient": {
            "deleting": false
          }
        }
      }
    },
    {
      "cell_type": "markdown",
      "source": [
        "## Step 2: Reading the PAT token from the Key Vault"
      ],
      "metadata": {
        "nteract": {
          "transient": {
            "deleting": false
          }
        }
      }
    },
    {
      "cell_type": "code",
      "source": [
        "from azure.identity import ManagedIdentityCredential\n",
        "from azure.keyvault.secrets import SecretClient\n",
        "\n",
        "credential = ManagedIdentityCredential(client_id=\"\")\n",
        "KEY_VAULT_NAME = \"\"\n",
        "SECRET_NAME = \"\"\n",
        "\n",
        "secret_client = SecretClient(vault_url=f\"https://{KEY_VAULT_NAME}.vault.azure.net\", credential=credential)\n",
        "retrieved_secret = secret_client.get_secret(SECRET_NAME)\n",
        "secret_value = retrieved_secret.value\n",
        "\n",
        "print(secret_value)"
      ],
      "outputs": [],
      "execution_count": null,
      "metadata": {
        "gather": {
          "logged": 1709639912208
        },
        "jupyter": {
          "outputs_hidden": false,
          "source_hidden": false
        },
        "nteract": {
          "transient": {
            "deleting": false
          }
        }
      }
    },
    {
      "cell_type": "markdown",
      "source": [
        "## Step 3: Creating the workspace connection to the GitHub respository"
      ],
      "metadata": {
        "nteract": {
          "transient": {
            "deleting": false
          }
        }
      }
    },
    {
      "cell_type": "code",
      "source": [
        "from azure.ai.ml.entities import WorkspaceConnection\n",
        "from azure.ai.ml.entities import PatTokenConfiguration\n",
        "\n",
        "credentials = PatTokenConfiguration(pat=secret_value)\n",
        "\n",
        "ws_connection = WorkspaceConnection(\n",
        "    name=\"ej-pandas-conn\",\n",
        "    target=\"https://github.com/ejones18/ej-pandas\",\n",
        "    type=\"PythonFeed\",\n",
        "    credentials=credentials,\n",
        ")\n",
        "\n",
        "ml_client.connections.create_or_update(ws_connection)"
      ],
      "outputs": [],
      "execution_count": null,
      "metadata": {
        "gather": {
          "logged": 1709649307144
        },
        "jupyter": {
          "outputs_hidden": false,
          "source_hidden": false
        },
        "nteract": {
          "transient": {
            "deleting": false
          }
        }
      }
    },
    {
      "cell_type": "markdown",
      "source": [
        "## Step 4: Create the custom environment"
      ],
      "metadata": {
        "nteract": {
          "transient": {
            "deleting": false
          }
        }
      }
    },
    {
      "cell_type": "code",
      "source": [
        "from azure.ai.ml.entities import Environment, BuildContext\n",
        "\n",
        "env_docker_conda = Environment(\n",
        "    image=\"mcr.microsoft.com/azureml/openmpi4.1.0-ubuntu20.04\",\n",
        "    conda_file=\"./requirements.yml\",\n",
        "    name=\"ej-test\",\n",
        "    version=\"2\"\n",
        ")\n",
        "ml_client.environments.create_or_update(env_docker_conda)"
      ],
      "outputs": [],
      "execution_count": null,
      "metadata": {
        "gather": {
          "logged": 1709649335403
        },
        "jupyter": {
          "outputs_hidden": false,
          "source_hidden": false
        },
        "nteract": {
          "transient": {
            "deleting": false
          }
        }
      }
    },
    {
      "cell_type": "markdown",
      "source": [
        "## Step 5: Submit a job to test the new custom environment"
      ],
      "metadata": {
        "nteract": {
          "transient": {
            "deleting": false
          }
        }
      }
    },
    {
      "cell_type": "code",
      "source": [
        "from azure.ai.ml.entities import AmlCompute\n",
        "\n",
        "# specify aml compute name.\n",
        "cpu_compute_target = \"jonesethan3\"\n",
        "\n",
        "try:\n",
        "    ml_client.compute.get(cpu_compute_target)\n",
        "except Exception:\n",
        "    print(\"Creating a new cpu compute target...\")\n",
        "    compute = AmlCompute(\n",
        "        name=cpu_compute_target, size=\"STANDARD_D2_V2\", min_instances=0, max_instances=4\n",
        "    )\n",
        "    ml_client.compute.begin_create_or_update(compute).result()"
      ],
      "outputs": [],
      "execution_count": null,
      "metadata": {
        "gather": {
          "logged": 1709650458642
        },
        "jupyter": {
          "outputs_hidden": false,
          "source_hidden": false
        },
        "nteract": {
          "transient": {
            "deleting": false
          }
        }
      }
    },
    {
      "cell_type": "code",
      "source": [
        "from azure.ai.ml import command\n",
        "\n",
        "# define the command\n",
        "command_job = command(\n",
        "    code=\"./src\",\n",
        "    command=\"python main.py\",\n",
        "    environment=\"ej-test:2\",\n",
        "    compute=cpu_compute_target,\n",
        ")"
      ],
      "outputs": [],
      "execution_count": null,
      "metadata": {
        "gather": {
          "logged": 1709650460364
        },
        "jupyter": {
          "outputs_hidden": false,
          "source_hidden": false
        },
        "nteract": {
          "transient": {
            "deleting": false
          }
        }
      }
    },
    {
      "cell_type": "code",
      "source": [
        "# submit the command\n",
        "returned_job = ml_client.jobs.create_or_update(command_job)\n",
        "# get a URL for the status of the job\n",
        "returned_job.studio_url"
      ],
      "outputs": [],
      "execution_count": null,
      "metadata": {
        "gather": {
          "logged": 1709650467671
        },
        "jupyter": {
          "outputs_hidden": false,
          "source_hidden": false
        },
        "nteract": {
          "transient": {
            "deleting": false
          }
        }
      }
    }
  ],
  "metadata": {
    "kernel_info": {
      "name": "python310-sdkv2"
    },
    "kernelspec": {
      "name": "python310-sdkv2",
      "language": "python",
      "display_name": "Python 3.10 - SDK v2"
    },
    "language_info": {
      "name": "python",
      "version": "3.10.11",
      "mimetype": "text/x-python",
      "codemirror_mode": {
        "name": "ipython",
        "version": 3
      },
      "pygments_lexer": "ipython3",
      "nbconvert_exporter": "python",
      "file_extension": ".py"
    },
    "microsoft": {
      "host": {
        "AzureML": {
          "notebookHasBeenCompleted": true
        }
      },
      "ms_spell_check": {
        "ms_spell_check_language": "en"
      }
    },
    "nteract": {
      "version": "nteract-front-end@1.0.0"
    }
  },
  "nbformat": 4,
  "nbformat_minor": 2
}